
!pip install sqlalchemy

import sqlite3, pandas as pd
conn = sqlite3.connect('fiddle.db')
with open('dataset/data.sql','r') as f:
    conn.executescript(f.read())

# 3. Pull into pandas
df = pd.read_sql_query('SELECT * FROM transactions;', conn)
df.head()



df.shape



df['transaction_time'] = pd.to_datetime(df['transaction_time'])


df['date'] = df['transaction_time'].dt.date

daily = (
    df
    .groupby('date')['transaction_amount']
    .sum()
    .reset_index()
    .sort_values('date')
)
daily['rolling_3d_avg'] = daily['transaction_amount'].rolling(window=3).mean()
result = daily[daily['date'] == pd.to_datetime('2021-01-31').date()]
print(result)



#fetching fresh copy again for time series plotting and dickey fuller test
import matplotlib.pyplot as plt
from statsmodels.tsa.stattools import adfuller

df = pd.read_sql_query('SELECT transaction_time, transaction_amount FROM transactions', conn)
daily = df.groupby('transaction_time')['transaction_amount'].sum().sort_index()


adf_result = adfuller(daily)
print(f'ADF Statistic: {adf_result[0]:.4f}')
print(f'p-value: {adf_result[1]:.4f}')
for key, val in adf_result[4].items():
    print(f'Critical Value ({key}): {val:.4f}')


rolling_mean = daily.rolling(window=3, center=False).mean()
rolling_std = daily.rolling(window=3, center=False).std()


plt.figure(figsize=(10, 6))
plt.plot(daily, label='Daily Total Amount')
plt.plot(rolling_mean, label='Rolling Mean (3-day)')
plt.plot(rolling_mean + 2*rolling_std, linestyle='--', label='+2σ')
plt.plot(rolling_mean - 2*rolling_std, linestyle='--', label='-2σ')
plt.title('Daily Total Transaction Amount with 3-day Rolling Mean and ±2σ')
plt.xlabel('Date')
plt.ylabel('Total Amount')
plt.legend(loc='best')
plt.tight_layout()
plt.show()


import pandas as pd
import matplotlib.pyplot as plt
from statsmodels.tsa.stattools import adfuller


df = pd.read_sql_query(
    'SELECT transaction_time, transaction_amount FROM transactions',
    conn
)
df['transaction_time'] = pd.to_datetime(df['transaction_time'])

daily = (
    df
    .set_index('transaction_time')
    .resample('D')['transaction_amount']
    .sum()
)

adf_result = adfuller(daily.fillna(0)) 
print(f'ADF Statistic: {adf_result[0]:.4f}')
print(f'p-value:        {adf_result[1]:.4f}')
for k, v in adf_result[4].items():
    print(f'Critical Value ({k}): {v:.4f}')

rolling_mean = daily.rolling(window=3).mean()
rolling_std  = daily.rolling(window=3).std()
focus = daily.loc['2021-01-01':'2021-02-15']

plt.figure(figsize=(12, 6))
plt.plot(focus.index, focus,
         marker='o', linestyle='-', alpha=0.7, label='Daily Total')
plt.plot(focus.index, rolling_mean.loc[focus.index],
         linewidth=2, label='3-Day Rolling Mean')
plt.plot(focus.index, (rolling_mean + 2*rolling_std).loc[focus.index],
         linestyle='--', alpha=0.5, label='+2σ')
plt.plot(focus.index, (rolling_mean - 2*rolling_std).loc[focus.index],
         linestyle='--', alpha=0.5, label='-2σ')

plt.axvline('2021-01-31', color='red',
            linestyle='--', linewidth=2, label='Jan 31')

plt.xticks(
    pd.date_range('2021-01-01', '2021-02-15', freq='5D'),
    rotation=45, ha='right'
)

plt.title('Transactions Around Jan 31, 2021')
plt.xlabel('Date')
plt.ylabel('Total Amount')
plt.legend()
plt.tight_layout()
plt.show()









from statsmodels.tsa.seasonal import seasonal_decompose

decomp = seasonal_decompose(daily, model='additive', period=7)

fig = decomp.plot()
fig.set_size_inches(10, 8)
plt.tight_layout()
plt.show()



from statsmodels.tsa.seasonal import STL

stl = STL(daily, period=7)
res = stl.fit()

fig = res.plot()
fig.set_size_inches(10, 8)
plt.tight_layout()
plt.show()



df = pd.read_sql_query('SELECT * FROM transactions;', conn) #refreshing df once again


df['transaction_time'] = pd.to_datetime(df['transaction_time'])


daily = (
    df
    .set_index('transaction_time')
    .resample('D')['transaction_amount']
    .sum()
    .reset_index()
)


daily['date'] = daily['transaction_time'].dt.date


start = pd.to_datetime('2021-01-29').date()
end   = pd.to_datetime('2021-01-31').date()
mask  = (daily['date'] >= start) & (daily['date'] <= end)
subset = daily.loc[mask, ['date','transaction_amount']] \
              .rename(columns={'transaction_amount':'transaction_sum'})


print(subset)




